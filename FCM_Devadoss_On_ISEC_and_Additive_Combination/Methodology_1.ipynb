{
  "nbformat": 4,
  "nbformat_minor": 0,
  "metadata": {
    "kernelspec": {
      "display_name": "Python 3",
      "language": "python",
      "name": "python3"
    },
    "language_info": {
      "codemirror_mode": {
        "name": "ipython",
        "version": 3
      },
      "file_extension": ".py",
      "mimetype": "text/x-python",
      "name": "python",
      "nbconvert_exporter": "python",
      "pygments_lexer": "ipython3",
      "version": "3.7.4"
    },
    "colab": {
      "name": "Methodology 1.ipynb",
      "provenance": [],
      "include_colab_link": true
    }
  },
  "cells": [
    {
      "cell_type": "markdown",
      "metadata": {
        "id": "view-in-github",
        "colab_type": "text"
      },
      "source": [
        "<a href=\"https://colab.research.google.com/github/nairaanish/CAT_DOG_CLASSIFIER/blob/master/FCM_Devadoss_On_ISEC_and_Additive_Combination/Methodology_1.ipynb\" target=\"_parent\"><img src=\"https://colab.research.google.com/assets/colab-badge.svg\" alt=\"Open In Colab\"/></a>"
      ]
    },
    {
      "cell_type": "markdown",
      "metadata": {
        "id": "DkUkkzU2lMUy"
      },
      "source": [
        "## IMPORTING THE NECESSARY LIBRARIES"
      ]
    },
    {
      "cell_type": "code",
      "metadata": {
        "id": "JMakDcHrlMUz"
      },
      "source": [
        "import numpy as np\n",
        "import scipy as sp\n",
        "import matplotlib.pyplot as plt\n",
        "import pandas as pd\n",
        "#import seaborn as sns\n",
        "import os, re, json, csv\n",
        "#import igraph as ig\n",
        "import networkx as nx\n",
        "import pprint\n",
        "\n",
        "\n",
        "%matplotlib inline \n",
        "from pylab import rcParams\n",
        "rcParams['figure.figsize'] = 7,4 # Bigger figures\n",
        "rcParams['lines.linewidth'] = 2.0\n",
        "rcParams.update({'font.size': 25}) # Bigger text (for labels)\n",
        "#from warnings import filterwarnings #filterwarnings('ignore')"
      ],
      "execution_count": null,
      "outputs": []
    },
    {
      "cell_type": "markdown",
      "metadata": {
        "id": "mtsTBuVVlMU1"
      },
      "source": [
        "## DEFINING REQUIRED FUNCTIONS"
      ]
    },
    {
      "cell_type": "code",
      "metadata": {
        "id": "bFFpg-DOlMU2"
      },
      "source": [
        "def FixedPointList(func, arg, nmax = 1000):\n",
        "    tmp_lst = [func(arg)]\n",
        "    tmp_lst = tmp_lst + [func(tmp_lst[-1])]\n",
        "    while ( (len(tmp_lst)==len(set(tmp_lst))) & (len(tmp_lst) < nmax) ):\n",
        "        tmp_lst = tmp_lst + [func(tmp_lst[-1])]\n",
        "    return(tmp_lst)\n",
        "\n",
        "def FixedPoint(func, arg, nmax = 1000):\n",
        "    return( FixedPointList(func, arg, nmax)[-1] )\n",
        "\n",
        "def NestWhileList(func, arg, stopTestQ, nmax = 1000):\n",
        "    # stopTestQ takes full FP list to calc stop flag. stop when True\n",
        "    tmp_lst = [func(arg)]\n",
        "    tmp_lst = tmp_lst + [func(tmp_lst[-1])]\n",
        "    while ( not(stopTestQ(tmp_lst)) & (len(tmp_lst) < nmax) ):\n",
        "        tmp_lst = tmp_lst + [func(tmp_lst[-1])]\n",
        "    return([list(t) for t in tmp_lst])\n"
      ],
      "execution_count": null,
      "outputs": []
    },
    {
      "cell_type": "code",
      "metadata": {
        "id": "6AtkcEQSlMU4"
      },
      "source": [
        "S = lambda x: 1*(x>=0.5) \n",
        "#S = lambda x: 1/(1+np.exp(-(9*x-3)))\n",
        "# delayed unitstep activation function... \n",
        "# generalize later: non-decreasing bijections on the unit interval\n",
        "\n",
        "def Clamp(actvn, mask):\n",
        "    assert(len(actvn) == len(mask))\n",
        "    clamped = actvn\n",
        "    clamped[ [j for j in range(len(mask)) if mask[j]==1] ] = 1\n",
        "    clamped[ [j for j in range(len(mask)) if mask[j]<0] ] = 0\n",
        "    return clamped\n",
        "\n",
        "def dec2binList(x):\n",
        "    return [int(k) for k in list(bin(x)[2:])]\n",
        "\n",
        "def ClampIntInt(actvn, on, off):\n",
        "    return Clamp(actvn, dec2binList(on), dec2binList(off))\n",
        "\n",
        "def FCMPass(grph, inp, mask):\n",
        "    assert(len(inp) == len(mask))\n",
        "    return Clamp( S(\n",
        "            np.asarray(np.matmul(Clamp(inp, mask), nx.adjacency_matrix(grph).todense())).ravel()\n",
        "        ), mask)"
      ],
      "execution_count": null,
      "outputs": []
    },
    {
      "cell_type": "code",
      "metadata": {
        "id": "I6pOSgd9lMU6"
      },
      "source": [
        "def stopcritQ(res_lst):\n",
        "    res_lst = [str(t) for t in res_lst]\n",
        "    return( len(set(res_lst))!=len(res_lst) )\n",
        "\n",
        "def FCMEvolSeq(grph, inp, mask, nmax = 1000):\n",
        "    assert(len(inp) == len(mask))\n",
        "    seq = NestWhileList(\n",
        "        lambda inp_vec: FCMPass(grph, inp_vec, mask),\n",
        "        inp, stopcritQ, nmax\n",
        "    )\n",
        "    seq = [inp] + seq\n",
        "    return(np.matrix(seq))\n"
      ],
      "execution_count": null,
      "outputs": []
    },
    {
      "cell_type": "markdown",
      "metadata": {
        "id": "l9Qiq3DqlMU8"
      },
      "source": [
        "## CLUSTER 1 "
      ]
    },
    {
      "cell_type": "code",
      "metadata": {
        "id": "d6GFxlHHlMU8",
        "outputId": "8a94628d-2a00-4191-94a3-27aeeb8fe3f6"
      },
      "source": [
        "alist = [(2,1,1),(2,4,1),\n",
        "         (3,1,1), (3,4,1)\n",
        "         ]\n",
        "apath = nx.DiGraph()\n",
        "apath.add_weighted_edges_from(alist)\n",
        "nx.draw(apath, node_size=500, with_labels=True, node_color='r', edge_color='b')\n",
        "apthdmat = nx.adjacency_matrix(apath).todense()\n",
        "print (apthdmat)"
      ],
      "execution_count": null,
      "outputs": [
        {
          "output_type": "stream",
          "text": [
            "[[0 1 1 0]\n",
            " [0 0 0 0]\n",
            " [0 0 0 0]\n",
            " [0 1 1 0]]\n"
          ],
          "name": "stdout"
        },
        {
          "output_type": "display_data",
          "data": {
            "image/png": "[encoded data removed]",
            "text/plain": [
              "<Figure size 504x288 with 1 Axes>"
            ]
          },
          "metadata": {
            "tags": []
          }
        }
      ]
    },
    {
      "cell_type": "markdown",
      "metadata": {
        "id": "3cnv_SiTlMU_"
      },
      "source": [
        "## CLUSTER 2"
      ]
    },
    {
      "cell_type": "code",
      "metadata": {
        "id": "n_-9OuRClMU_",
        "outputId": "17f245de-f282-48c4-bd7e-bfd6a3a2da51"
      },
      "source": [
        "blist = [(5,4,1),\n",
        "         (6,4,1)\n",
        "        ]\n",
        "bpath = nx.DiGraph()\n",
        "bpath.add_weighted_edges_from(blist)\n",
        "nx.draw(bpath, node_size=500, with_labels=True, node_color='r', edge_color='b')\n",
        "bpthdmat = nx.adjacency_matrix(bpath).todense()\n",
        "print (bpthdmat)"
      ],
      "execution_count": null,
      "outputs": [
        {
          "output_type": "stream",
          "text": [
            "[[0 1 0]\n",
            " [0 0 0]\n",
            " [0 1 0]]\n"
          ],
          "name": "stdout"
        },
        {
          "output_type": "display_data",
          "data": {
            "image/png": "[encoded data removed]",
            "text/plain": [
              "<Figure size 504x288 with 1 Axes>"
            ]
          },
          "metadata": {
            "tags": []
          }
        }
      ]
    },
    {
      "cell_type": "markdown",
      "metadata": {
        "id": "YoM-bXJWlMVC"
      },
      "source": [
        "## CLUSTER 3"
      ]
    },
    {
      "cell_type": "code",
      "metadata": {
        "scrolled": true,
        "id": "siNiIYoTlMVC",
        "outputId": "31a376e2-eac6-4b69-d113-409850d447b2"
      },
      "source": [
        "clist = [(8,7,1),\n",
        "         (10,7,1),\n",
        "         (9,7,1)\n",
        "        ]\n",
        "cpath = nx.DiGraph()\n",
        "cpath.add_weighted_edges_from(clist)\n",
        "nx.draw(cpath, node_size=500, with_labels=True, node_color='r', edge_color='b')\n",
        "cpthdmat = nx.adjacency_matrix(cpath).todense()\n",
        "print (cpthdmat)"
      ],
      "execution_count": null,
      "outputs": [
        {
          "output_type": "stream",
          "text": [
            "[[0 1 0 0]\n",
            " [0 0 0 0]\n",
            " [0 1 0 0]\n",
            " [0 1 0 0]]\n"
          ],
          "name": "stdout"
        },
        {
          "output_type": "display_data",
          "data": {
            "image/png": "[encoded data removed]",
            "text/plain": [
              "<Figure size 504x288 with 1 Axes>"
            ]
          },
          "metadata": {
            "tags": []
          }
        }
      ]
    },
    {
      "cell_type": "markdown",
      "metadata": {
        "id": "-ctmc8eIlMVE"
      },
      "source": [
        "## CLUSTER 4"
      ]
    },
    {
      "cell_type": "code",
      "metadata": {
        "id": "TVVl6_7xlMVF",
        "outputId": "7445b699-e30c-4678-ae88-28e972ef58e4"
      },
      "source": [
        "dlist = [(10,1,1),\n",
        "         (11,1,1),\n",
        "         (12,1,1)\n",
        "        ]\n",
        "dpath = nx.DiGraph()\n",
        "dpath.add_weighted_edges_from(dlist)\n",
        "nx.draw(dpath, node_size=500, with_labels=True, node_color='r', edge_color='b')\n",
        "dpthdmat = nx.adjacency_matrix(cpath).todense()\n",
        "print (dpthdmat)"
      ],
      "execution_count": null,
      "outputs": [
        {
          "output_type": "stream",
          "text": [
            "[[0 1 0 0]\n",
            " [0 0 0 0]\n",
            " [0 1 0 0]\n",
            " [0 1 0 0]]\n"
          ],
          "name": "stdout"
        },
        {
          "output_type": "display_data",
          "data": {
            "image/png": "[encoded data removed]",
            "text/plain": [
              "<Figure size 504x288 with 1 Axes>"
            ]
          },
          "metadata": {
            "tags": []
          }
        }
      ]
    },
    {
      "cell_type": "markdown",
      "metadata": {
        "id": "ngBTc5polMVG"
      },
      "source": [
        "## COBFCM"
      ]
    },
    {
      "cell_type": "code",
      "metadata": {
        "id": "uT3MZVqZlMVH",
        "outputId": "65dbeaef-18aa-4c81-878d-a3fe76442f19"
      },
      "source": [
        "finlist = [ (2,1,1),(2,4,1),\n",
        "            (3,1,1), (3,4,1),\n",
        "            (5,4,1),\n",
        "            (6,4,1),\n",
        "            (8,7,1),\n",
        "            (10,7,1),\n",
        "            (9,7,1),\n",
        "            (10,1,1),\n",
        "            (11,1,1),\n",
        "            (12,1,1)\n",
        "          ]\n",
        "finpath = nx.DiGraph()\n",
        "finpath.add_weighted_edges_from(finlist)\n",
        "nx.draw(finpath, node_size=500, with_labels=True, node_color='r', edge_color='b')\n",
        "finpthdmat = nx.adjacency_matrix(finpath).todense()\n",
        "print (finpthdmat)"
      ],
      "execution_count": null,
      "outputs": [
        {
          "output_type": "stream",
          "text": [
            "[[0 1 1 0 0 0 0 0 0 0 0 0]\n",
            " [0 0 0 0 0 0 0 0 0 0 0 0]\n",
            " [0 0 0 0 0 0 0 0 0 0 0 0]\n",
            " [0 1 1 0 0 0 0 0 0 0 0 0]\n",
            " [0 0 1 0 0 0 0 0 0 0 0 0]\n",
            " [0 0 1 0 0 0 0 0 0 0 0 0]\n",
            " [0 0 0 0 0 0 0 1 0 0 0 0]\n",
            " [0 0 0 0 0 0 0 0 0 0 0 0]\n",
            " [0 1 0 0 0 0 0 1 0 0 0 0]\n",
            " [0 0 0 0 0 0 0 1 0 0 0 0]\n",
            " [0 1 0 0 0 0 0 0 0 0 0 0]\n",
            " [0 1 0 0 0 0 0 0 0 0 0 0]]\n"
          ],
          "name": "stdout"
        },
        {
          "output_type": "display_data",
          "data": {
            "image/png": "[encoded data removed]",
            "text/plain": [
              "<Figure size 504x288 with 1 Axes>"
            ]
          },
          "metadata": {
            "tags": []
          }
        }
      ]
    },
    {
      "cell_type": "code",
      "metadata": {
        "id": "SbByqvWOlMVI",
        "outputId": "cceec91d-e313-4002-905a-f0fb620cdb25"
      },
      "source": [
        "l = 0  \n",
        "m=0\n",
        "A = [[0, 0, 0, 0 ,0, 0, 0, 0, 0, 0, 0, 0]]\n",
        "res=[0,0,0,0,0,0,0,0,0,0,0,0]\n",
        "for l in range(len(A)):\n",
        "    for j in range(len(A[0])): \n",
        "        A = [[0, 0, 0, 0 ,0, 0, 0, 0, 0, 0, 0, 0]]\n",
        "        A[l][j]=1\n",
        "\n",
        "        B = [[0, 0, 0, 0, 0, 0, 0, 0, 0, 0, 0, 0],\n",
        "             [1, 0, 0, 1, 0, 0, 0, 0, 0, 0, 0, 0],\n",
        "             [1, 0, 0, 1, 0, 0, 0, 0, 0, 0, 0, 0],\n",
        "             [0, 0, 0, 0, 0, 0, 0, 0, 0, 0, 0, 0],\n",
        "             [0, 0, 0, 1, 0, 0, 0, 0, 0, 0, 0, 0],\n",
        "             [0, 0, 0, 1, 0, 0, 0, 0, 0, 0, 0, 0],\n",
        "             [0, 0, 0, 0, 0, 0, 1, 0, 0, 0, 0, 0],\n",
        "             [0, 0, 0, 0, 0, 0, 1, 0, 0, 0, 0, 0],\n",
        "             [0, 0, 0, 0, 0, 0, 1, 0, 0, 0, 0, 0],\n",
        "             [1, 0, 0, 0, 0, 0, 1, 0, 0, 0, 0, 0],\n",
        "             [1, 0, 0, 0, 0, 0, 0, 0, 0, 0, 0, 0],\n",
        "             [1, 0, 0, 0, 0, 0, 0, 0, 0, 0, 0, 0]]\n",
        "\n",
        "        result = [[0, 0, 0, 0, 0, 0, 0, 0, 0, 0, 0, 0]]\n",
        "\n",
        "\n",
        "        while(1):\n",
        "            temp=[row[:] for row in A]\n",
        "            \n",
        "            # iterating by row of A \n",
        "            for i in range(len(A)): \n",
        "                \n",
        "                # iterating by coloum by B \n",
        "                for j in range(len(B[0])): \n",
        "                    \n",
        "                    # iterating by rows of B \n",
        "                    for k in range(len(B)): \n",
        "                        result[i][j] += A[i][k] * B[k][j]\n",
        "                        \n",
        "                        \n",
        "            for i in range(len(A)):\n",
        "                for j in range(len(A[0])):\n",
        "                    A[i][j]=(A[i][j]+result[i][j])\n",
        "                    \n",
        "    \n",
        "            for i in range(len(A)):\n",
        "                for j in range(len(A[0])):\n",
        "                    if(A[i][j]>1):\n",
        "                        A[i][j]=1\n",
        "\n",
        "\n",
        "    \n",
        "            if(temp == A):\n",
        "                print(temp)\n",
        "                count=0\n",
        "                for k in range(len(temp[0])):\n",
        "                    if(temp[0][k]==1):\n",
        "                        count+=1\n",
        "                res[m]=count  \n",
        "                m+=1\n",
        "                break\n",
        "            else:\n",
        "                continue\n",
        "print(\"\")\n",
        "print(res)"
      ],
      "execution_count": null,
      "outputs": [
        {
          "output_type": "stream",
          "text": [
            "[[1, 0, 0, 0, 0, 0, 0, 0, 0, 0, 0, 0]]\n",
            "[[1, 1, 0, 1, 0, 0, 0, 0, 0, 0, 0, 0]]\n",
            "[[1, 0, 1, 1, 0, 0, 0, 0, 0, 0, 0, 0]]\n",
            "[[0, 0, 0, 1, 0, 0, 0, 0, 0, 0, 0, 0]]\n",
            "[[0, 0, 0, 1, 1, 0, 0, 0, 0, 0, 0, 0]]\n",
            "[[0, 0, 0, 1, 0, 1, 0, 0, 0, 0, 0, 0]]\n",
            "[[0, 0, 0, 0, 0, 0, 1, 0, 0, 0, 0, 0]]\n",
            "[[0, 0, 0, 0, 0, 0, 1, 1, 0, 0, 0, 0]]\n",
            "[[0, 0, 0, 0, 0, 0, 1, 0, 1, 0, 0, 0]]\n",
            "[[1, 0, 0, 0, 0, 0, 1, 0, 0, 1, 0, 0]]\n",
            "[[1, 0, 0, 0, 0, 0, 0, 0, 0, 0, 1, 0]]\n",
            "[[1, 0, 0, 0, 0, 0, 0, 0, 0, 0, 0, 1]]\n",
            "\n",
            "[1, 3, 3, 1, 2, 2, 1, 2, 2, 3, 2, 2]\n"
          ],
          "name": "stdout"
        }
      ]
    }
  ]
}